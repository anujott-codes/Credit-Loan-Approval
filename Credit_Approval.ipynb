{
  "cells": [
    {
      "cell_type": "markdown",
      "metadata": {
        "colab_type": "text",
        "id": "view-in-github"
      },
      "source": [
        "<a href=\"https://colab.research.google.com/github/anujott-codes/Credit-Loan-Approval/blob/main/Credit_Approval.ipynb\" target=\"_parent\"><img src=\"https://colab.research.google.com/assets/colab-badge.svg\" alt=\"Open In Colab\"/></a>"
      ]
    },
    {
      "cell_type": "markdown",
      "metadata": {
        "id": "ta1sd-bGoQ1D"
      },
      "source": [
        "##Import Libraries"
      ]
    },
    {
      "cell_type": "code",
      "execution_count": null,
      "metadata": {
        "id": "J2J0sszzmpiN"
      },
      "outputs": [],
      "source": [
        "#import libraries\n",
        "import numpy as np\n",
        "import pandas as pd\n",
        "import matplotlib.pyplot as plt\n",
        "import seaborn as sns\n",
        "import joblib\n",
        "from sklearn.preprocessing import OneHotEncoder\n",
        "from sklearn.model_selection import train_test_split, cross_val_score, StratifiedKFold\n",
        "from sklearn.ensemble import RandomForestClassifier,GradientBoostingClassifier\n",
        "from sklearn.linear_model import LogisticRegression\n",
        "from sklearn.neighbors import KNeighborsClassifier\n",
        "from sklearn.svm import SVC\n",
        "from sklearn.naive_bayes import GaussianNB\n",
        "from sklearn.metrics import confusion_matrix, roc_auc_score, roc_curve, classification_report, accuracy_score\n",
        "from xgboost import XGBClassifier\n",
        "from sklearn.compose import ColumnTransformer\n",
        "from sklearn.preprocessing import StandardScaler\n",
        "from sklearn.model_selection import RandomizedSearchCV, GridSearchCV\n",
        "\n",
        "import warnings\n",
        "warnings.filterwarnings('ignore')"
      ]
    },
    {
      "cell_type": "markdown",
      "metadata": {
        "id": "vGr0RdOdoUJW"
      },
      "source": [
        "##Credit Card Approval"
      ]
    },
    {
      "cell_type": "markdown",
      "metadata": {
        "id": "mOgbcBcLoY-_"
      },
      "source": [
        "###import dataset"
      ]
    },
    {
      "cell_type": "code",
      "execution_count": null,
      "metadata": {
        "colab": {
          "base_uri": "https://localhost:8080/",
          "height": 226
        },
        "id": "riyE3ooGmylE",
        "outputId": "54e260b4-2792-4639-c99a-21de62e6b7e9"
      },
      "outputs": [],
      "source": [
        "#using credit dataset from kaggle derived from UCI\n",
        "credit_df = pd.read_csv(\"/content/drive/MyDrive/Colab Notebooks/Machine Learning/Project/Credit Card and Loan Approval/credit_approval_dataset.csv\")\n",
        "credit_df.head()"
      ]
    },
    {
      "cell_type": "markdown",
      "metadata": {
        "id": "CMO_2CRd6lrc"
      },
      "source": [
        "###EDA"
      ]
    },
    {
      "cell_type": "code",
      "execution_count": null,
      "metadata": {
        "colab": {
          "base_uri": "https://localhost:8080/"
        },
        "id": "1MQZ8KcJo8dJ",
        "outputId": "978bec9c-30ee-421d-feff-b1258d5244ee"
      },
      "outputs": [],
      "source": [
        "#info regarding dataset\n",
        "credit_df.info()"
      ]
    },
    {
      "cell_type": "code",
      "execution_count": null,
      "metadata": {
        "colab": {
          "base_uri": "https://localhost:8080/",
          "height": 586
        },
        "id": "thlRHb2GCm9R",
        "outputId": "a964f617-29a4-4f48-c975-f7ea10cf3d80"
      },
      "outputs": [],
      "source": [
        "#check null values\n",
        "credit_df.isna().sum()"
      ]
    },
    {
      "cell_type": "code",
      "execution_count": null,
      "metadata": {
        "colab": {
          "base_uri": "https://localhost:8080/"
        },
        "id": "CAAUXKXaCqw2",
        "outputId": "9c52c8da-d15a-4313-9aef-8f95450bdb00"
      },
      "outputs": [],
      "source": [
        "#check duplicates\n",
        "credit_df.duplicated().sum()"
      ]
    },
    {
      "cell_type": "code",
      "execution_count": null,
      "metadata": {
        "colab": {
          "base_uri": "https://localhost:8080/",
          "height": 586
        },
        "id": "hh03juKTptPS",
        "outputId": "5e6fcf87-efdf-4205-a07b-1e299c1aa309"
      },
      "outputs": [],
      "source": [
        "#unique values per column\n",
        "credit_df.nunique()"
      ]
    },
    {
      "cell_type": "code",
      "execution_count": null,
      "metadata": {
        "colab": {
          "base_uri": "https://localhost:8080/",
          "height": 320
        },
        "id": "Z4T5gsNByEu8",
        "outputId": "cd835bf4-802e-4105-e4e3-eef986e86518"
      },
      "outputs": [],
      "source": [
        "#description of the dataset\n",
        "credit_df.describe()"
      ]
    },
    {
      "cell_type": "code",
      "execution_count": null,
      "metadata": {
        "colab": {
          "base_uri": "https://localhost:8080/"
        },
        "id": "JE4hVmmgyRgh",
        "outputId": "a672d3e3-823e-421e-9760-8147b03eb9a7"
      },
      "outputs": [],
      "source": [
        "#extracting numerical features and categorical features\n",
        "num_features = credit_df.select_dtypes(exclude='O').columns.to_list()\n",
        "cat_features = credit_df.select_dtypes(include='O').columns.to_list()\n",
        "\n",
        "print(\"----- Numerical Features -----\")\n",
        "print(num_features)\n",
        "print(f\"Total : {len(num_features)}\")\n",
        "print(\"\\n\")\n",
        "print(\"----- Categorical Features -----\")\n",
        "print(cat_features)\n",
        "print(f\"Total : {len(cat_features)}\")"
      ]
    },
    {
      "cell_type": "code",
      "execution_count": null,
      "metadata": {
        "id": "Gyu7pXsw1aib"
      },
      "outputs": [],
      "source": [
        "#function to plot distributions\n",
        "def plot(df, col ,num):\n",
        "  plt.subplot(4,4,num)\n",
        "  sns.histplot(data = df,x=col,kde=True, color='skyblue')\n",
        "  plt.title(f\"{col} Distribution\")\n",
        "  plt.xlabel(\" \")"
      ]
    },
    {
      "cell_type": "code",
      "execution_count": null,
      "metadata": {
        "colab": {
          "base_uri": "https://localhost:8080/",
          "height": 1000
        },
        "id": "WSrH1m4C3Pdi",
        "outputId": "b596d7db-15ea-4220-e608-85278d9ad7da"
      },
      "outputs": [],
      "source": [
        "#plotting distributions\n",
        "plt.figure(figsize=(16,16))\n",
        "for i,col in enumerate(num_features):\n",
        "  plot(credit_df,col,i+1)\n",
        "\n",
        "plt.tight_layout()\n",
        "plt.show()"
      ]
    },
    {
      "cell_type": "markdown",
      "metadata": {
        "id": "GZWvOMtw6cTk"
      },
      "source": [
        "Debt,Incmome and Credit Score have been already scaled"
      ]
    },
    {
      "cell_type": "code",
      "execution_count": null,
      "metadata": {
        "id": "e6aMfI343yiz"
      },
      "outputs": [],
      "source": [
        "#function for pie chart\n",
        "def pie_plot(col, num, df=credit_df):\n",
        "    plt.subplot(3,3,num)\n",
        "    plt.pie(\n",
        "        df[col].value_counts(),\n",
        "        labels=df[col].value_counts().index,\n",
        "        autopct='%1.1f%%',\n",
        "        colors=sns.color_palette('pastel')\n",
        "    )\n",
        "    plt.title(f\"{col} Distribution\")\n"
      ]
    },
    {
      "cell_type": "code",
      "execution_count": null,
      "metadata": {
        "colab": {
          "base_uri": "https://localhost:8080/",
          "height": 1000
        },
        "id": "ua_9BUzI7a-I",
        "outputId": "bc188a12-c11b-46fd-da0f-bd45d8b579d9"
      },
      "outputs": [],
      "source": [
        "#pie chart for binary distributions\n",
        "plt.figure(figsize=(14,14))\n",
        "binary_features = ['Gender','Married','PriorDefault','BankCustomer','Employed','DriversLicense','Approved']\n",
        "for i,col in enumerate(binary_features):\n",
        "  pie_plot(col,i+1)\n",
        "plt.show()"
      ]
    },
    {
      "cell_type": "code",
      "execution_count": null,
      "metadata": {
        "colab": {
          "base_uri": "https://localhost:8080/",
          "height": 284
        },
        "id": "ertM6bGF7pmP",
        "outputId": "723e222e-33c9-4447-a09b-08dd491f08dc"
      },
      "outputs": [],
      "source": [
        "#pie chart for categorical features\n",
        "plt.figure(figsize=(16,16))\n",
        "for i,col in enumerate(cat_features):\n",
        "  pie_plot(col,i+1)\n",
        "\n",
        "plt.tight_layout()\n",
        "plt.show()"
      ]
    },
    {
      "cell_type": "code",
      "execution_count": null,
      "metadata": {
        "colab": {
          "base_uri": "https://localhost:8080/",
          "height": 927
        },
        "id": "3hjdGBF19uic",
        "outputId": "3e4f9d88-b4c3-4dc1-d455-b2a0040c72e7"
      },
      "outputs": [],
      "source": [
        "#check collinearity and feature correlation\n",
        "plt.figure(figsize=(12,10))\n",
        "numeric_df = credit_df.select_dtypes(exclude='O')\n",
        "correlation_matrix = numeric_df.corr()\n",
        "sns.heatmap(correlation_matrix, cmap='viridis',annot=True)\n",
        "plt.show()"
      ]
    },
    {
      "cell_type": "code",
      "execution_count": null,
      "metadata": {
        "colab": {
          "base_uri": "https://localhost:8080/",
          "height": 1000
        },
        "id": "HvtaLRyT3Brq",
        "outputId": "b82fa88c-1d0d-43d4-b543-fca208688a8b"
      },
      "outputs": [],
      "source": [
        "#pairplot\n",
        "sns.pairplot(data = credit_df)\n",
        "plt.show()"
      ]
    },
    {
      "cell_type": "code",
      "execution_count": null,
      "metadata": {
        "colab": {
          "base_uri": "https://localhost:8080/",
          "height": 226
        },
        "id": "tdq5zdPiCk1A",
        "outputId": "e34965c9-412c-4a38-a816-6d79c3a38821"
      },
      "outputs": [],
      "source": [
        "#dropping less informative features\n",
        "final_df = credit_df.copy()\n",
        "final_df = final_df.drop(columns=['Ethnicity','ZipCode'])\n",
        "final_df.head()"
      ]
    },
    {
      "cell_type": "code",
      "execution_count": null,
      "metadata": {
        "colab": {
          "base_uri": "https://localhost:8080/"
        },
        "id": "K4pwf5gcE9-M",
        "outputId": "b056fe8f-1fb4-4f94-f3fa-b83485ff1052"
      },
      "outputs": [],
      "source": [
        "final_df.shape"
      ]
    },
    {
      "cell_type": "code",
      "execution_count": null,
      "metadata": {
        "id": "Xgq7ws3jFBbb"
      },
      "outputs": [],
      "source": [
        "#continuous distributions\n",
        "continuous_features = ['Age','Debt','YearsEmployed','CreditScore','Income']"
      ]
    },
    {
      "cell_type": "code",
      "execution_count": null,
      "metadata": {
        "id": "FHBzd22qFY3f"
      },
      "outputs": [],
      "source": [
        "#function for box plot to analyse outliers\n",
        "def boxplot(col,num,df=final_df):\n",
        "  plt.subplot(3,3,num)\n",
        "  sns.set_style('dark')\n",
        "  sns.boxplot(data = df,x = col, color='purple')\n",
        "  plt.title(f'{col} Boxplot Distribution')"
      ]
    },
    {
      "cell_type": "code",
      "execution_count": null,
      "metadata": {
        "colab": {
          "base_uri": "https://localhost:8080/",
          "height": 714
        },
        "id": "fdJLGZ9FGGv_",
        "outputId": "b6e6cccb-7563-4fc5-bcf0-6d290230d103"
      },
      "outputs": [],
      "source": [
        "#plotting boxplot for continuous distributions\n",
        "plt.figure(figsize=(12,12))\n",
        "for i,col in enumerate(continuous_features):\n",
        "  boxplot(col,i+1)\n",
        "\n",
        "plt.tight_layout()\n",
        "plt.show()"
      ]
    },
    {
      "cell_type": "markdown",
      "metadata": {
        "id": "3DXSOGqAHMnb"
      },
      "source": [
        "##Data Split"
      ]
    },
    {
      "cell_type": "code",
      "execution_count": null,
      "metadata": {
        "id": "_KGzLkIiGXWK"
      },
      "outputs": [],
      "source": [
        "X = final_df.drop(columns = ['Approved'])\n",
        "y = final_df['Approved']"
      ]
    },
    {
      "cell_type": "code",
      "execution_count": null,
      "metadata": {
        "colab": {
          "base_uri": "https://localhost:8080/",
          "height": 226
        },
        "id": "No0yt4SmHU8T",
        "outputId": "10e3a8ac-6ecb-4e85-8c16-1d51c630d9cd"
      },
      "outputs": [],
      "source": [
        "X.head()"
      ]
    },
    {
      "cell_type": "code",
      "execution_count": null,
      "metadata": {
        "id": "WkX6CiAGHZAU"
      },
      "outputs": [],
      "source": [
        "#data split for training set and test set\n",
        "X_train,X_test,y_train,y_test = train_test_split(X,y,test_size=0.2,stratify=y,random_state=42)"
      ]
    },
    {
      "cell_type": "code",
      "execution_count": null,
      "metadata": {
        "colab": {
          "base_uri": "https://localhost:8080/",
          "height": 226
        },
        "id": "hwgVz-oRVdLs",
        "outputId": "42f2ea3f-bd66-4110-b5a7-185f5f34a28a"
      },
      "outputs": [],
      "source": [
        "X_train.head()"
      ]
    },
    {
      "cell_type": "code",
      "execution_count": null,
      "metadata": {
        "colab": {
          "base_uri": "https://localhost:8080/",
          "height": 226
        },
        "id": "jWnxNqy6Ve8k",
        "outputId": "73060bed-332e-4693-956d-ab784b476b8b"
      },
      "outputs": [],
      "source": [
        "X_test.head()"
      ]
    },
    {
      "cell_type": "code",
      "execution_count": null,
      "metadata": {
        "id": "WOejOXQdboSn"
      },
      "outputs": [],
      "source": [
        "#setup preprocessor\n",
        "#extracting numerical and categorical features\n",
        "categorical_features = X_train.select_dtypes(include='O').columns.to_list()\n",
        "binary_features.remove('Approved')\n",
        "\n",
        "preprocessor = ColumnTransformer(\n",
        "    transformers=[\n",
        "        ('bin','passthrough',binary_features),\n",
        "        ('num',StandardScaler(),continuous_features),\n",
        "        ('cat', OneHotEncoder(handle_unknown='ignore', sparse_output=False), categorical_features)\n",
        "    ]\n",
        ")\n",
        "\n",
        "#preprocessing X_train and X_test\n",
        "X_train_preprocessed = preprocessor.fit_transform(X_train)\n",
        "X_test_preprocessed = preprocessor.transform(X_test)"
      ]
    },
    {
      "cell_type": "code",
      "execution_count": null,
      "metadata": {
        "colab": {
          "base_uri": "https://localhost:8080/"
        },
        "id": "8FzzHDj9YXJR",
        "outputId": "29a41b6c-4cb2-40b5-e055-05824d1fbf16"
      },
      "outputs": [],
      "source": [
        "#saving preprocessor for deployment\n",
        "joblib.dump(preprocessor,'preprocessor.pkl')"
      ]
    },
    {
      "cell_type": "code",
      "execution_count": null,
      "metadata": {
        "colab": {
          "base_uri": "https://localhost:8080/"
        },
        "id": "FUF5z92X2lWH",
        "outputId": "0715c934-89a9-42ec-950c-a693e9417b37"
      },
      "outputs": [],
      "source": [
        "#logistic Regression\n",
        "lr = LogisticRegression(random_state = 42)\n",
        "skf = StratifiedKFold(n_splits=5, shuffle=True, random_state=42)\n",
        "\n",
        "# Perform 5-fold CV\n",
        "lr_scores = cross_val_score(lr, X_train_preprocessed, y_train, cv=skf, scoring='accuracy')\n",
        "\n",
        "print(\"Accuracy scores for each fold:\", lr_scores)\n",
        "print(\"Mean accuracy:\", lr_scores.mean())\n",
        "print(\"Standard deviation:\", lr_scores.std())\n",
        "\n"
      ]
    },
    {
      "cell_type": "code",
      "execution_count": null,
      "metadata": {
        "colab": {
          "base_uri": "https://localhost:8080/"
        },
        "id": "llyavDzA3Z8A",
        "outputId": "919582fc-e13b-4f16-fd1c-e133366b9d53"
      },
      "outputs": [],
      "source": [
        "#SVC\n",
        "svc = SVC(random_state = 42,probability=True)\n",
        "\n",
        "# Perform 5-fold CV\n",
        "svc_scores = cross_val_score(svc, X_train_preprocessed, y_train, cv=skf, scoring='accuracy')\n",
        "\n",
        "print(\"Accuracy scores for each fold:\", svc_scores)\n",
        "print(\"Mean accuracy:\", svc_scores.mean())\n",
        "print(\"Standard deviation:\", svc_scores.std())"
      ]
    },
    {
      "cell_type": "code",
      "execution_count": null,
      "metadata": {
        "colab": {
          "base_uri": "https://localhost:8080/"
        },
        "id": "1yF83gG43w8a",
        "outputId": "db7baae5-ed64-46f3-efc8-2aaa00754351"
      },
      "outputs": [],
      "source": [
        "#KNN\n",
        "knn = KNeighborsClassifier()\n",
        "\n",
        "# Perform 5-fold CV\n",
        "knn_scores = cross_val_score(knn, X_train_preprocessed, y_train, cv=skf, scoring='accuracy')\n",
        "\n",
        "print(\"Accuracy scores for each fold:\", knn_scores)\n",
        "print(\"Mean accuracy:\", knn_scores.mean())\n",
        "print(\"Standard deviation:\", knn_scores.std())"
      ]
    },
    {
      "cell_type": "code",
      "execution_count": null,
      "metadata": {
        "colab": {
          "base_uri": "https://localhost:8080/"
        },
        "id": "4J2_H-NQ4CNm",
        "outputId": "4376c45f-0125-4184-91c4-b4989a3fb4df"
      },
      "outputs": [],
      "source": [
        "#Naive Bayes\n",
        "nb = GaussianNB()\n",
        "\n",
        "# Perform 5-fold CV\n",
        "nb_scores = cross_val_score(nb, X_train_preprocessed, y_train, cv=skf, scoring='accuracy')\n",
        "\n",
        "print(\"Accuracy scores for each fold:\", nb_scores)\n",
        "print(\"Mean accuracy:\", nb_scores.mean())\n",
        "print(\"Standard deviation:\", nb_scores.std())"
      ]
    },
    {
      "cell_type": "code",
      "execution_count": null,
      "metadata": {
        "colab": {
          "base_uri": "https://localhost:8080/"
        },
        "id": "NXyIgzUbYjnI",
        "outputId": "cb86a04a-b854-4da5-b904-efe5691971f3"
      },
      "outputs": [],
      "source": [
        "#RandomForestClassifier\n",
        "rf = RandomForestClassifier(random_state=42)\n",
        "skf = StratifiedKFold(n_splits=5, shuffle=True, random_state=42)\n",
        "\n",
        "# Perform 5-fold CV\n",
        "rf_scores = cross_val_score(rf, X_train_preprocessed, y_train, cv=skf, scoring='accuracy')\n",
        "\n",
        "print(\"Accuracy scores for each fold:\", rf_scores)\n",
        "print(\"Mean accuracy:\", rf_scores.mean())\n",
        "print(\"Standard deviation:\", rf_scores.std())"
      ]
    },
    {
      "cell_type": "code",
      "execution_count": null,
      "metadata": {
        "colab": {
          "base_uri": "https://localhost:8080/"
        },
        "id": "3zyT1yhNZROW",
        "outputId": "e9ac7fbc-cd6e-41f7-b9b8-c3874c118f27"
      },
      "outputs": [],
      "source": [
        "#GradientBoostingClassifier\n",
        "gb = GradientBoostingClassifier(random_state=22)\n",
        "\n",
        "# Perform 5-fold CV\n",
        "gb_scores = cross_val_score(gb, X_train_preprocessed, y_train, cv=skf, scoring='accuracy')\n",
        "\n",
        "print(\"Accuracy scores for each fold:\", gb_scores)\n",
        "print(\"Mean accuracy:\", gb_scores.mean())\n",
        "print(\"Standard deviation:\", gb_scores.std())"
      ]
    },
    {
      "cell_type": "code",
      "execution_count": null,
      "metadata": {
        "colab": {
          "base_uri": "https://localhost:8080/"
        },
        "id": "fG_ZTFaxZ1cf",
        "outputId": "146c9128-84a5-48ce-f8fe-16bf207a3711"
      },
      "outputs": [],
      "source": [
        "#XGBClassifier\n",
        "xgb = XGBClassifier(\n",
        "    n_estimators=200,\n",
        "    learning_rate=0.1,\n",
        "    random_state=42,\n",
        "    use_label_encoder=False,\n",
        "    eval_metric='logloss',\n",
        "    objective='binary:logistic'\n",
        ")\n",
        "\n",
        "# Perform 5-fold CV\n",
        "xgb_scores = cross_val_score(xgb, X_train_preprocessed, y_train, cv=skf, scoring='accuracy')\n",
        "\n",
        "print(\"Accuracy scores for each fold:\", xgb_scores)\n",
        "print(\"Mean accuracy:\", xgb_scores.mean())\n",
        "print(\"Standard deviation:\", xgb_scores.std())"
      ]
    },
    {
      "cell_type": "markdown",
      "metadata": {
        "id": "cHP6vri01zgE"
      },
      "source": [
        "LogisticRegression, SVC, Random Forests perform well"
      ]
    },
    {
      "cell_type": "markdown",
      "metadata": {
        "id": "zqJGjDLU8_QM"
      },
      "source": [
        "##Evaluation on Testing Set"
      ]
    },
    {
      "cell_type": "code",
      "execution_count": null,
      "metadata": {
        "colab": {
          "base_uri": "https://localhost:8080/"
        },
        "id": "hs0egV8j8sPU",
        "outputId": "f1c8b76e-6577-4e83-c65e-8d9f10ffbd15"
      },
      "outputs": [],
      "source": [
        "#logistic regression\n",
        "lr.fit(X_train_preprocessed,y_train)\n",
        "\n",
        "#prediction on training set\n",
        "ypred_train_lr = lr.predict(X_train_preprocessed)\n",
        "\n",
        "#prediction on testing set\n",
        "ypred_test_lr = lr.predict(X_test_preprocessed)\n",
        "\n",
        "#classifiction report for training set\n",
        "clf_report_train_lr = classification_report(y_train,ypred_train_lr)\n",
        "print(\"----- Classification report for Training Set -----\")\n",
        "print(clf_report_train_lr)\n",
        "\n",
        "#classification report for testing set\n",
        "clf_report_test_lr = classification_report(y_test,ypred_test_lr)\n",
        "print(\"----- Classification report for Testing Set -----\")\n",
        "print(clf_report_test_lr)"
      ]
    },
    {
      "cell_type": "code",
      "execution_count": null,
      "metadata": {
        "colab": {
          "base_uri": "https://localhost:8080/"
        },
        "id": "mBAC-vC79OF-",
        "outputId": "d5e45872-8ecb-4fef-b314-bb8d36a73ad4"
      },
      "outputs": [],
      "source": [
        "# Support Vector Classifier\n",
        "svc.fit(X_train_preprocessed,y_train)\n",
        "\n",
        "#prediction on training set\n",
        "ypred_train_svc = svc.predict(X_train_preprocessed)\n",
        "\n",
        "#prediction on testing set\n",
        "ypred_test_svc = svc.predict(X_test_preprocessed)\n",
        "\n",
        "#classifiction report for training set\n",
        "clf_report_train_svc = classification_report(y_train,ypred_train_svc)\n",
        "print(\"----- Classification report for Training Set -----\")\n",
        "print(clf_report_train_svc)\n",
        "\n",
        "#classification report for testing set\n",
        "clf_report_test_svc = classification_report(y_test,ypred_test_svc)\n",
        "print(\"----- Classification report for Testing Set -----\")\n",
        "print(clf_report_test_svc)\n"
      ]
    },
    {
      "cell_type": "code",
      "execution_count": null,
      "metadata": {
        "colab": {
          "base_uri": "https://localhost:8080/"
        },
        "id": "6FfBxBP_-rCr",
        "outputId": "827096bd-f69f-4d2f-f924-9f17522b4cab"
      },
      "outputs": [],
      "source": [
        "#Random Forest Classifier\n",
        "rf.fit(X_train_preprocessed,y_train)\n",
        "\n",
        "#prediction on training set\n",
        "ypred_train_rf = rf.predict(X_train_preprocessed)\n",
        "\n",
        "#prediction on testing set\n",
        "ypred_test_rf = rf.predict(X_test_preprocessed)\n",
        "\n",
        "#classifiction report for training set\n",
        "clf_report_train_rf = classification_report(y_train,ypred_train_rf)\n",
        "print(\"----- Classification report for Training Set -----\")\n",
        "print(clf_report_train_rf)\n",
        "\n",
        "#classification report for testing set\n",
        "clf_report_test_rf = classification_report(y_test,ypred_test_rf)\n",
        "print(\"----- Classification report for Testing Set -----\")\n",
        "print(clf_report_test_rf)"
      ]
    },
    {
      "cell_type": "markdown",
      "metadata": {
        "id": "ScZm2B-ZBQ_X"
      },
      "source": [
        "SVC Performs the Best"
      ]
    },
    {
      "cell_type": "markdown",
      "metadata": {
        "id": "57V-a8hfEdwR"
      },
      "source": [
        "##Confusion Matrix, ROC_AUC curve and Evaluation metrics"
      ]
    },
    {
      "cell_type": "code",
      "execution_count": null,
      "metadata": {
        "colab": {
          "base_uri": "https://localhost:8080/",
          "height": 487
        },
        "id": "wdHeIpHjEc8L",
        "outputId": "e48a19ae-d542-4f8b-c335-e9fcd3a75c8f"
      },
      "outputs": [],
      "source": [
        "#confusion matrix\n",
        "cm = confusion_matrix(y_test,ypred_test_svc)\n",
        "plt.figure(figsize=(6,5))\n",
        "sns.heatmap(cm, annot=True, fmt='d', cmap='Blues', xticklabels=['Reject','Approve'], yticklabels=['Reject','Approve'])\n",
        "plt.xlabel('Predicted')\n",
        "plt.ylabel('Actual')\n",
        "plt.title('Confusion Matrix - SVC')\n",
        "plt.show()"
      ]
    },
    {
      "cell_type": "code",
      "execution_count": null,
      "metadata": {
        "colab": {
          "base_uri": "https://localhost:8080/"
        },
        "id": "AuithLNoHTle",
        "outputId": "7a49ee1f-7017-4ae5-bae9-ae0e2859fd13"
      },
      "outputs": [],
      "source": [
        "#Classification Report\n",
        "print(\"------ Classification Report SVC ------\")\n",
        "print(clf_report_test_svc)"
      ]
    },
    {
      "cell_type": "code",
      "execution_count": null,
      "metadata": {
        "colab": {
          "base_uri": "https://localhost:8080/",
          "height": 487
        },
        "id": "E90ntUJdHrjM",
        "outputId": "f37f4e18-cf0d-4d88-9e46-ceb03c84334b"
      },
      "outputs": [],
      "source": [
        "#ROC-AUC curve\n",
        "yprob_svc = svc.predict_proba(X_test_preprocessed)[:,1]\n",
        "auc_score = roc_auc_score(y_test, yprob_svc)\n",
        "fpr, tpr, thresholds = roc_curve(y_test, yprob_svc)\n",
        "\n",
        "plt.figure(figsize=(6,5))\n",
        "plt.plot(fpr, tpr, label=f\"SVC (AUC = {auc_score:.3f})\",color='red')\n",
        "plt.plot([0,1],[0,1],'k--')\n",
        "plt.xlabel('False Positive Rate')\n",
        "plt.ylabel('True Positive Rate')\n",
        "plt.title('ROC Curve - SVC')\n",
        "plt.legend(loc='lower right')\n",
        "plt.show()"
      ]
    },
    {
      "cell_type": "code",
      "execution_count": null,
      "metadata": {
        "colab": {
          "base_uri": "https://localhost:8080/"
        },
        "id": "umsm24q5ITWS",
        "outputId": "b264d717-4f8c-4feb-f1ac-2bf578d37529"
      },
      "outputs": [],
      "source": [
        "#saving model\n",
        "joblib.dump(svc,'model.pkl')"
      ]
    },
    {
      "cell_type": "code",
      "execution_count": null,
      "metadata": {
        "id": "7bc5AjzDKG4j"
      },
      "outputs": [],
      "source": []
    }
  ],
  "metadata": {
    "accelerator": "GPU",
    "colab": {
      "authorship_tag": "ABX9TyOoymkGj9xtnOQw1UvKkqk7",
      "gpuType": "T4",
      "include_colab_link": true,
      "mount_file_id": "12B9rnfxNHt-a8K7c4h2OvYlDn-zd-56j",
      "provenance": []
    },
    "kernelspec": {
      "display_name": "Python 3",
      "name": "python3"
    },
    "language_info": {
      "codemirror_mode": {
        "name": "ipython",
        "version": 3
      },
      "file_extension": ".py",
      "mimetype": "text/x-python",
      "name": "python",
      "nbconvert_exporter": "python",
      "pygments_lexer": "ipython3",
      "version": "3.12.11"
    }
  },
  "nbformat": 4,
  "nbformat_minor": 0
}
